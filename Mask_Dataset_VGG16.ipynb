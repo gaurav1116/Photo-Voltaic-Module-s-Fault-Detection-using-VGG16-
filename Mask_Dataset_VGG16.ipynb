{
  "cells": [
    {
      "cell_type": "code",
      "execution_count": null,
      "metadata": {
        "id": "SGV7IAJgMvyx"
      },
      "outputs": [],
      "source": [
        "import os\n",
        "import pandas as pd\n",
        "import numpy as np\n",
        "from sklearn.model_selection import train_test_split\n",
        "from sklearn.preprocessing import LabelEncoder\n",
        "from sklearn.utils import shuffle\n",
        "import tensorflow\n",
        "\n",
        "import matplotlib.pyplot as plt\n",
        "from tensorflow.keras.applications.mobilenet import preprocess_input"
      ]
    },
    {
      "cell_type": "code",
      "execution_count": null,
      "metadata": {
        "id": "cXPZF9_KMvyy"
      },
      "outputs": [],
      "source": [
        "Train_data = \"C:/Users/gaura/Pictures/maskdatasetvgg16/data/\"\n",
        "Test_data = \"C:/Users/gaura/Pictures/maskdatasetvgg16/test/\"\n",
        "\n",
        "train_data_df = pd.DataFrame(columns=['Image_path','Label'])\n",
        "test_data_df = pd.DataFrame(columns=['Image_path'])"
      ]
    },
    {
      "cell_type": "code",
      "execution_count": null,
      "metadata": {
        "id": "uaE-wp-IMvyz"
      },
      "outputs": [],
      "source": [
        "def load_dataframe(DF,path):\n",
        "    labels_files = os.listdir(Train_data)\n",
        "    image_paths = []\n",
        "    labels = []\n",
        "    for file in labels_files:\n",
        "        path_file = path + file +'/'\n",
        "        list_files = os.listdir(path_file)\n",
        "        for image_path in list_files:\n",
        "            image_paths.append(path_file + image_path)\n",
        "            labels.append(file)\n",
        "    DF['Image_path'] = image_paths\n",
        "    DF['Label'] = labels\n",
        "    return(DF)"
      ]
    },
    {
      "cell_type": "code",
      "execution_count": null,
      "metadata": {
        "id": "dq9Xz6nMMvyz"
      },
      "outputs": [],
      "source": [
        "train_data_df = load_dataframe(train_data_df,Train_data)\n",
        "test_data_df = load_dataframe(test_data_df, Test_data)\n",
        "\n",
        "train_data_df = shuffle(train_data_df)\n",
        "test_data_df = shuffle(test_data_df)\n",
        "\n",
        "encoder = LabelEncoder()\n",
        "train_data_df['Label'] = encoder.fit_transform(train_data_df['Label'])\n",
        "test_data_df['Label'] = encoder.fit_transform(test_data_df['Label'])"
      ]
    },
    {
      "cell_type": "code",
      "execution_count": null,
      "metadata": {
        "id": "l7hSuyZ5Mvy0"
      },
      "outputs": [],
      "source": [
        "import cv2\n",
        "def load_image(path):\n",
        "    img = cv2.imread(path,1)\n",
        "    # OpenCV loads images with color channels\n",
        "    # in BGR order. So we need to reverse them\n",
        "    img = cv2.resize(img,(224,224))\n",
        "    return img\n",
        "\n",
        "img = load_image(train_data_df['Image_path'][0])\n",
        "fig,ax = plt.subplots(1)\n",
        "ax.imshow(img)\n",
        "plt.show()\n",
        "img.shape"
      ]
    },
    {
      "cell_type": "code",
      "execution_count": null,
      "metadata": {
        "id": "wVXS6f1VMvy1"
      },
      "outputs": [],
      "source": [
        "x_train = []\n",
        "for image_path in train_data_df['Image_path'] :\n",
        "    img = load_image(image_path)\n",
        "    img = preprocess_input(np.array(img, dtype=np.float32))\n",
        "    x_train.append(img)\n",
        "x_train = np.array(x_train)"
      ]
    },
    {
      "cell_type": "code",
      "execution_count": null,
      "metadata": {
        "id": "fl-EXWyQMvy1"
      },
      "outputs": [],
      "source": [
        "x_test = []\n",
        "for image_path in test_data_df['Image_path'] :\n",
        "    img = load_image(image_path)\n",
        "    img = preprocess_input(np.array(img, dtype=np.float32))\n",
        "    x_test.append(img)\n",
        "x_test = np.array(x_test)"
      ]
    },
    {
      "cell_type": "code",
      "execution_count": null,
      "metadata": {
        "id": "VzoNiZI3Mvy2"
      },
      "outputs": [],
      "source": [
        "y_train = train_data_df['Label'].to_list()\n",
        "y_test = test_data_df['Label'].to_list()"
      ]
    },
    {
      "cell_type": "code",
      "execution_count": null,
      "metadata": {
        "colab": {
          "background_save": true
        },
        "id": "V6zRUx4XMvy2"
      },
      "outputs": [],
      "source": [
        "from tensorflow.keras.utils import to_categorical\n",
        "\n",
        "y_train = to_categorical(y_train,num_classes=3)\n",
        "y_train = y_train.reshape(y_train.shape[0],1,1,y_train.shape[1])\n",
        "y_test = to_categorical(y_test,num_classes=3)\n",
        "y_test = y_test.reshape(y_test.shape[0],1,1,y_test.shape[1])"
      ]
    },
    {
      "cell_type": "code",
      "execution_count": null,
      "metadata": {
        "colab": {
          "background_save": true
        },
        "id": "NGr2TjxwMvy2"
      },
      "outputs": [],
      "source": [
        "from tensorflow.keras.layers import Reshape, UpSampling2D, Concatenate, Conv2D,Conv2DTranspose,Dropout,Dense,MaxPool2D\n",
        "from tensorflow.keras.models import Model\n",
        "\n",
        "def create_model(trainable=True):\n",
        "    model = tensorflow.keras.applications.VGG16(input_shape=(224, 224, 3), include_top=False, weights=\"imagenet\")\n",
        "\n",
        "    for layer in model.layers:\n",
        "        layer.trainable = trainable    \n",
        "\n",
        "    x =  model.output\n",
        "    x = Conv2D(512, kernel_size=3,padding ='same',activation=\"relu\")(x)\n",
        "    x = MaxPool2D()(x)\n",
        "    x = Conv2D(256, kernel_size=3,padding ='same',activation=\"relu\")(x)\n",
        "    x = MaxPool2D()(x)\n",
        "    x = Dense(512,activation = 'relu')(x)\n",
        "    x = Dense(3,activation = 'softmax')(x)\n",
        "    return(Model(inputs = model.input,outputs = x))"
      ]
    },
    {
      "cell_type": "code",
      "execution_count": null,
      "metadata": {
        "colab": {
          "background_save": true
        },
        "id": "rlPp-K-RMvy3"
      },
      "outputs": [],
      "source": [
        "model = create_model(False)"
      ]
    },
    {
      "cell_type": "code",
      "execution_count": null,
      "metadata": {
        "colab": {
          "background_save": true
        },
        "id": "dcLgDrQmMvy3"
      },
      "outputs": [],
      "source": [
        "import tensorflow\n",
        "Optimizer = tensorflow.keras.optimizers.Adam(learning_rate = 1e-6,beta_1 = 0.9,decay = 1e-5)\n",
        "\n",
        "model.compile(optimizer= Optimizer,loss= 'categorical_crossentropy',metrics= 'accuracy')"
      ]
    },
    {
      "cell_type": "code",
      "execution_count": null,
      "metadata": {
        "colab": {
          "background_save": true
        },
        "id": "daVw7zcxMvy3"
      },
      "outputs": [],
      "source": [
        "EarlyStopping = tensorflow.keras.callbacks.EarlyStopping(monitor='val_loss',patience=2,min_delta = 0.01)\n",
        "# Model Checkpoint\n",
        "ModelCheckpoint = tensorflow.keras.callbacks.ModelCheckpoint(\"VGG-{val_loss:.3f}.h5\",monitor='val_loss',save_best_only= True,save_weights_only=True)"
      ]
    },
    {
      "cell_type": "code",
      "execution_count": null,
      "metadata": {
        "colab": {
          "background_save": true
        },
        "id": "WVfdy0h1Mvy3"
      },
      "outputs": [],
      "source": [
        "# model_history = model.fit(x_train,y_train,epochs = 1,batch_size = 1,validation_data = (x_test,y_test),callbacks=[ModelCheckpoint,EarlyStopping])\n",
        "model_history = model.fit(x_train,y_train, validation_data = (x_test,y_test),epochs=10,batch_size = 1)"
      ]
    },
    {
      "cell_type": "code",
      "execution_count": null,
      "metadata": {
        "colab": {
          "background_save": true
        },
        "id": "VUrp5eXyMvy4"
      },
      "outputs": [],
      "source": [
        "def plotModelAccuracy(history, modelname):\n",
        "    plt.plot(history.history['accuracy'])\n",
        "    plt.plot(history.history['val_accuracy'])\n",
        "\n",
        "    plt.title(modelname+' model accuracy')\n",
        "    plt.ylabel('accuracy')\n",
        "    plt.xlabel('epoch')\n",
        "    plt.legend(['train','validation'], loc='upper left')\n",
        "    plt.show()\n",
        "\n",
        "    plt.plot(history.history['loss'])\n",
        "    plt.plot(history.history['val_loss'])\n",
        "\n",
        "    plt.title(modelname+' model loss')\n",
        "    plt.ylabel('loss')\n",
        "    plt.xlabel('epoch')\n",
        "    plt.legend(['train','validation'], loc='upper left')\n",
        "    plt.show()\n",
        "\n",
        "    plotModelAccuracy(model_history, 'VGG16')"
      ]
    }
  ],
  "metadata": {
    "colab": {
      "name": "Mask Dataset-VGG16.ipynb",
      "provenance": []
    },
    "kernelspec": {
      "display_name": "Python 3",
      "language": "python",
      "name": "python3"
    },
    "language_info": {
      "codemirror_mode": {
        "name": "ipython",
        "version": 3
      },
      "file_extension": ".py",
      "mimetype": "text/x-python",
      "name": "python",
      "nbconvert_exporter": "python",
      "pygments_lexer": "ipython3",
      "version": "3.9.7"
    }
  },
  "nbformat": 4,
  "nbformat_minor": 0
}

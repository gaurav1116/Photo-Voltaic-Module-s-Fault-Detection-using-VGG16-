{
  "cells": [
    {
      "cell_type": "code",
      "execution_count": 1,
      "metadata": {
        "id": "SGV7IAJgMvyx"
      },
      "outputs": [],
      "source": [
        "import os\n",
        "import pandas as pd\n",
        "import numpy as np\n",
        "from sklearn.model_selection import train_test_split\n",
        "from sklearn.preprocessing import LabelEncoder\n",
        "from sklearn.utils import shuffle\n",
        "import tensorflow\n",
        "import matplotlib.pyplot as plt\n",
        "from tensorflow.keras.applications.mobilenet import preprocess_input"
      ]
    },
    {
      "cell_type": "code",
      "execution_count": 2,
      "metadata": {
        "colab": {
          "base_uri": "https://localhost:8080/"
        },
        "id": "Hn06zLV2NGZy",
        "outputId": "e6de02a5-c35f-444a-fca4-063a472e15bb"
      },
      "outputs": [],
      "source": [
        "# from google.colab import drive\n",
        "# drive.mount('/content/drive/')"
      ]
    },
    {
      "cell_type": "code",
      "execution_count": 16,
      "metadata": {
        "id": "cXPZF9_KMvyy"
      },
      "outputs": [],
      "source": [
        "Train_data = \"C:/Users/gaura/Pictures/maskdatasetvgg16/data/\"\n",
        "Test_data = \"C:/Users/gaura/Pictures/maskdatasetvgg16/test/\"\n",
        "\n",
        "train_data_df = pd.DataFrame(columns=['Image_path','Label'])\n",
        "test_data_df = pd.DataFrame(columns=['Image_path','Label'])"
      ]
    },
    {
      "cell_type": "code",
      "execution_count": 17,
      "metadata": {
        "id": "uaE-wp-IMvyz"
      },
      "outputs": [],
      "source": [
        "def load_dataframe(DF,path):\n",
        "    labels_files = os.listdir(Train_data)\n",
        "    image_paths = []\n",
        "    labels = []\n",
        "    for file in labels_files:\n",
        "        path_file = path + file +'/'\n",
        "        list_files = os.listdir(path_file)\n",
        "        for image_path in list_files:\n",
        "            image_paths.append(path_file + image_path)\n",
        "            labels.append(file)\n",
        "    DF['Image_path'] = image_paths\n",
        "    DF['Label'] = labels\n",
        "    return(DF)"
      ]
    },
    {
      "cell_type": "code",
      "execution_count": 18,
      "metadata": {
        "id": "dq9Xz6nMMvyz"
      },
      "outputs": [],
      "source": [
        "train_data_df = load_dataframe(train_data_df,Train_data)\n",
        "\n",
        "labels_files = os.listdir(Test_data)\n",
        "image_paths = []\n",
        "labels = []\n",
        "for file in labels_files:\n",
        "    path_file = Test_data + file +'\\\\'\n",
        "list_files = os.listdir(Test_data)\n",
        "for image_path in list_files:\n",
        "  image_paths.append(path_file + image_path)\n",
        "\n",
        "test_data_df['Image_path'] = image_path \n",
        "\n",
        "train_data_df = shuffle(train_data_df)\n",
        "test_data_df = shuffle(test_data_df)\n",
        "\n",
        "encoder = LabelEncoder()\n",
        "train_data_df['Label'] = encoder.fit_transform(train_data_df['Label'])\n",
        "test_data_df['Label'] = encoder.fit_transform(test_data_df['Label'])"
      ]
    },
    {
      "cell_type": "code",
      "execution_count": 19,
      "metadata": {
        "colab": {
          "base_uri": "https://localhost:8080/",
          "height": 286
        },
        "id": "l7hSuyZ5Mvy0",
        "outputId": "6402045f-6932-462a-f135-32d8eeb271b8"
      },
      "outputs": [
        {
          "data": {
            "image/png": "[encoded data removed]",
            "text/plain": [
              "<Figure size 432x288 with 1 Axes>"
            ]
          },
          "metadata": {
            "needs_background": "light"
          },
          "output_type": "display_data"
        },
        {
          "data": {
            "text/plain": [
              "(224, 224, 3)"
            ]
          },
          "execution_count": 19,
          "metadata": {},
          "output_type": "execute_result"
        }
      ],
      "source": [
        "import cv2\n",
        "def load_image(path):\n",
        "    img = cv2.imread(path,1)\n",
        "    # OpenCV loads images with color channels\n",
        "    # in BGR order. So we need to reverse them\n",
        "    img = cv2.resize(img,(224,224))\n",
        "    return img\n",
        "\n",
        "img = load_image(train_data_df['Image_path'][0])\n",
        "fig,ax = plt.subplots(1)\n",
        "ax.imshow(img)\n",
        "plt.show()\n",
        "img.shape"
      ]
    },
    {
      "cell_type": "code",
      "execution_count": 20,
      "metadata": {
        "id": "wVXS6f1VMvy1"
      },
      "outputs": [],
      "source": [
        "x_train = []\n",
        "for image_path in train_data_df['Image_path'] :\n",
        "    img = load_image(image_path)\n",
        "    img = preprocess_input(np.array(img, dtype=np.float32))\n",
        "    x_train.append(img)\n",
        "x_train = np.array(x_train)"
      ]
    },
    {
      "cell_type": "code",
      "execution_count": 21,
      "metadata": {
        "id": "fl-EXWyQMvy1"
      },
      "outputs": [],
      "source": [
        "x_test = []\n",
        "for image_path in test_data_df['Image_path'] :\n",
        "    img = load_image(image_path)\n",
        "    img = preprocess_input(np.array(img, dtype=np.float32))\n",
        "    x_test.append(img)\n",
        "x_test = np.array(x_test)"
      ]
    },
    {
      "cell_type": "code",
      "execution_count": 22,
      "metadata": {
        "id": "VzoNiZI3Mvy2"
      },
      "outputs": [],
      "source": [
        "y_train = train_data_df['Label'].to_list()\n",
        "y_test = test_data_df['Label'].to_list()"
      ]
    },
    {
      "cell_type": "code",
      "execution_count": 23,
      "metadata": {
        "colab": {
          "background_save": true
        },
        "id": "V6zRUx4XMvy2"
      },
      "outputs": [],
      "source": [
        "from tensorflow.keras.utils import to_categorical\n",
        "\n",
        "y_train = to_categorical(y_train,num_classes=3)\n",
        "y_train = y_train.reshape(y_train.shape[0],1,1,y_train.shape[1])\n",
        "y_test = to_categorical(y_test,num_classes=3)\n",
        "y_test = y_test.reshape(y_test.shape[0],1,1,y_test.shape[1])"
      ]
    },
    {
      "cell_type": "code",
      "execution_count": 24,
      "metadata": {
        "colab": {
          "background_save": true
        },
        "id": "NGr2TjxwMvy2"
      },
      "outputs": [],
      "source": [
        "from tensorflow.keras.layers import Reshape, UpSampling2D, Concatenate, Conv2D,Conv2DTranspose,Dropout,Dense,MaxPool2D\n",
        "from tensorflow.keras.models import Model\n",
        "\n",
        "def create_model(trainable=True):\n",
        "    model = tensorflow.keras.applications.VGG16(input_shape=(224, 224, 3), include_top=False, weights=\"imagenet\")\n",
        "\n",
        "    for layer in model.layers:\n",
        "        layer.trainable = trainable    \n",
        "\n",
        "    x =  model.output\n",
        "    x = Conv2D(512, kernel_size=3,padding ='same',activation=\"relu\")(x)\n",
        "    x = MaxPool2D()(x)\n",
        "    x = Conv2D(256, kernel_size=3,padding ='same',activation=\"relu\")(x)\n",
        "    x = MaxPool2D()(x)\n",
        "    x = Dense(512,activation = 'relu')(x)\n",
        "    x = Dense(3,activation = 'softmax')(x)\n",
        "    return(Model(inputs = model.input,outputs = x))"
      ]
    },
    {
      "cell_type": "code",
      "execution_count": 25,
      "metadata": {
        "colab": {
          "background_save": true
        },
        "id": "rlPp-K-RMvy3"
      },
      "outputs": [
        {
          "name": "stdout",
          "output_type": "stream",
          "text": [
            "Model: \"model_1\"\n",
            "_________________________________________________________________\n",
            "Layer (type)                 Output Shape              Param #   \n",
            "=================================================================\n",
            "input_2 (InputLayer)         [(None, 224, 224, 3)]     0         \n",
            "_________________________________________________________________\n",
            "block1_conv1 (Conv2D)        (None, 224, 224, 64)      1792      \n",
            "_________________________________________________________________\n",
            "block1_conv2 (Conv2D)        (None, 224, 224, 64)      36928     \n",
            "_________________________________________________________________\n",
            "block1_pool (MaxPooling2D)   (None, 112, 112, 64)      0         \n",
            "_________________________________________________________________\n",
            "block2_conv1 (Conv2D)        (None, 112, 112, 128)     73856     \n",
            "_________________________________________________________________\n",
            "block2_conv2 (Conv2D)        (None, 112, 112, 128)     147584    \n",
            "_________________________________________________________________\n",
            "block2_pool (MaxPooling2D)   (None, 56, 56, 128)       0         \n",
            "_________________________________________________________________\n",
            "block3_conv1 (Conv2D)        (None, 56, 56, 256)       295168    \n",
            "_________________________________________________________________\n",
            "block3_conv2 (Conv2D)        (None, 56, 56, 256)       590080    \n",
            "_________________________________________________________________\n",
            "block3_conv3 (Conv2D)        (None, 56, 56, 256)       590080    \n",
            "_________________________________________________________________\n",
            "block3_pool (MaxPooling2D)   (None, 28, 28, 256)       0         \n",
            "_________________________________________________________________\n",
            "block4_conv1 (Conv2D)        (None, 28, 28, 512)       1180160   \n",
            "_________________________________________________________________\n",
            "block4_conv2 (Conv2D)        (None, 28, 28, 512)       2359808   \n",
            "_________________________________________________________________\n",
            "block4_conv3 (Conv2D)        (None, 28, 28, 512)       2359808   \n",
            "_________________________________________________________________\n",
            "block4_pool (MaxPooling2D)   (None, 14, 14, 512)       0         \n",
            "_________________________________________________________________\n",
            "block5_conv1 (Conv2D)        (None, 14, 14, 512)       2359808   \n",
            "_________________________________________________________________\n",
            "block5_conv2 (Conv2D)        (None, 14, 14, 512)       2359808   \n",
            "_________________________________________________________________\n",
            "block5_conv3 (Conv2D)        (None, 14, 14, 512)       2359808   \n",
            "_________________________________________________________________\n",
            "block5_pool (MaxPooling2D)   (None, 7, 7, 512)         0         \n",
            "_________________________________________________________________\n",
            "conv2d_2 (Conv2D)            (None, 7, 7, 512)         2359808   \n",
            "_________________________________________________________________\n",
            "max_pooling2d_2 (MaxPooling2 (None, 3, 3, 512)         0         \n",
            "_________________________________________________________________\n",
            "conv2d_3 (Conv2D)            (None, 3, 3, 256)         1179904   \n",
            "_________________________________________________________________\n",
            "max_pooling2d_3 (MaxPooling2 (None, 1, 1, 256)         0         \n",
            "_________________________________________________________________\n",
            "dense_2 (Dense)              (None, 1, 1, 512)         131584    \n",
            "_________________________________________________________________\n",
            "dense_3 (Dense)              (None, 1, 1, 3)           1539      \n",
            "=================================================================\n",
            "Total params: 18,387,523\n",
            "Trainable params: 3,672,835\n",
            "Non-trainable params: 14,714,688\n",
            "_________________________________________________________________\n"
          ]
        }
      ],
      "source": [
        "model = create_model(False)"
      ]
    },
    {
      "cell_type": "code",
      "execution_count": 26,
      "metadata": {
        "colab": {
          "background_save": true
        },
        "id": "dcLgDrQmMvy3"
      },
      "outputs": [],
      "source": [
        "import tensorflow\n",
        "Optimizer = tensorflow.keras.optimizers.Adam(learning_rate = 1e-6,beta_1 = 0.9,decay = 1e-5)\n",
        "model.compile(optimizer= Optimizer,loss= 'categorical_crossentropy',metrics= 'accuracy')"
      ]
    },
    {
      "cell_type": "code",
      "execution_count": 27,
      "metadata": {
        "colab": {
          "background_save": true
        },
        "id": "daVw7zcxMvy3"
      },
      "outputs": [],
      "source": [
        "# EarlyStopping = tensorflow.keras.callbacks.EarlyStopping(monitor='val_loss',patience=2,min_delta = 0.01)\n",
        "\n",
        "## Model Checkpoint\n",
        "# ModelCheckpoint = tensorflow.keras.callbacks.ModelCheckpoint(\"VGG-{val_loss:.3f}.h5\",monitor='val_loss',save_best_only= True,save_weights_only=True)\n",
        "\n",
        "# model_history = model.fit(x_train,y_train,epochs = 10,batch_size = 1,validation_data = (x_test),callbacks=[ModelCheckpoint,EarlyStopping])"
      ]
    },
    {
      "cell_type": "code",
      "execution_count": 28,
      "metadata": {
        "colab": {
          "background_save": true
        },
        "id": "WVfdy0h1Mvy3"
      },
      "outputs": [
        {
          "name": "stdout",
          "output_type": "stream",
          "text": [
            "Epoch 1/10\n",
            "2093/2093 [==============================] - 568s 271ms/step - loss: 1.0240 - accuracy: 0.4787\n",
            "Epoch 2/10\n",
            "2093/2093 [==============================] - 424s 203ms/step - loss: 0.9074 - accuracy: 0.5987\n",
            "Epoch 3/10\n",
            "2093/2093 [==============================] - 479s 229ms/step - loss: 0.8180 - accuracy: 0.6550\n",
            "Epoch 4/10\n",
            "2093/2093 [==============================] - 488s 233ms/step - loss: 0.7483 - accuracy: 0.7296\n",
            "Epoch 5/10\n",
            "2093/2093 [==============================] - 486s 232ms/step - loss: 0.6987 - accuracy: 0.7606\n",
            "Epoch 6/10\n",
            "2093/2093 [==============================] - 478s 229ms/step - loss: 0.6551 - accuracy: 0.7936\n",
            "Epoch 7/10\n",
            "2093/2093 [==============================] - 467s 223ms/step - loss: 0.6166 - accuracy: 0.8299\n",
            "Epoch 8/10\n",
            "2093/2093 [==============================] - 480s 229ms/step - loss: 0.5830 - accuracy: 0.8328\n",
            "Epoch 9/10\n",
            "2093/2093 [==============================] - 471s 225ms/step - loss: 0.5535 - accuracy: 0.8428\n",
            "Epoch 10/10\n",
            "2093/2093 [==============================] - 464s 222ms/step - loss: 0.5264 - accuracy: 0.8538\n"
          ]
        }
      ],
      "source": [
        "model_history = model.fit(x_train,y_train, validation_data=x_test,epochs=10,batch_size = 1)"
      ]
    },
    {
      "cell_type": "code",
      "execution_count": 33,
      "metadata": {
        "colab": {
          "background_save": true
        },
        "id": "VUrp5eXyMvy4"
      },
      "outputs": [],
      "source": [
        "def plotModelAccuracy(history):\n",
        "    plt.plot(history.history['accuracy'])\n",
        "    # plt.plot(history.history['val_accuracy'])\n",
        "\n",
        "    plt.title('VGG16'+' model accuracy')\n",
        "    plt.ylabel('accuracy')\n",
        "    plt.xlabel('epoch')\n",
        "    plt.legend(['train','test'], loc='upper left')\n",
        "    plt.show()\n",
        "\n",
        "    plt.plot(history.history['loss'])\n",
        "    # plt.plot(history.history['val_loss'])\n",
        "\n",
        "    plt.title('VGG16'+' model loss')\n",
        "    plt.ylabel('loss')\n",
        "    plt.xlabel('epoch')\n",
        "    plt.legend(['train','test'], loc='upper left')\n",
        "    plt.show()"
      ]
    },
    {
      "cell_type": "code",
      "execution_count": 34,
      "metadata": {
        "colab": {
          "background_save": true
        },
        "id": "g4qivhdkMvy4"
      },
      "outputs": [
        {
          "data": {
            "image/png": "[encoded data removed]",
            "text/plain": [
              "<Figure size 432x288 with 1 Axes>"
            ]
          },
          "metadata": {
            "needs_background": "light"
          },
          "output_type": "display_data"
        },
        {
          "data": {
            "image/png": "[encoded data removed]",
            "text/plain": [
              "<Figure size 432x288 with 1 Axes>"
            ]
          },
          "metadata": {
            "needs_background": "light"
          },
          "output_type": "display_data"
        }
      ],
      "source": [
        "plotModelAccuracy(model_history)"
      ]
    },
    {
      "cell_type": "code",
      "execution_count": 35,
      "metadata": {
        "colab": {
          "background_save": true
        },
        "id": "UqJPkkyQMvy5"
      },
      "outputs": [],
      "source": [
        "pred = model.predict(np.array(x_train[120,:,:,:]).reshape(1,224,224,3))"
      ]
    },
    {
      "cell_type": "code",
      "execution_count": 36,
      "metadata": {
        "colab": {
          "background_save": true
        },
        "id": "J_JVuQ2AMvy6"
      },
      "outputs": [],
      "source": [
        "#model_history = self._model.fit(X_train,y_train,batch_size=batch_size, epochs=epochs, callbacks=[checkpoint,reduceLoss], validation_data=(X_Val,y_Val))"
      ]
    },
    {
      "cell_type": "code",
      "execution_count": 37,
      "metadata": {
        "colab": {
          "background_save": true
        },
        "id": "vWtSQ8igMvy6"
      },
      "outputs": [],
      "source": [
        "# def plotModelAccuracy(self, history, modelname):\n",
        "#   plt.plot(history.history['accuracy'])\n",
        "#   plt.plot(history.history['val_accuracy'])\n",
        "\n",
        "#   plt.title(modelname+' model accuracy')\n",
        "#   plt.ylabel('accuracy')\n",
        "#   plt.xlabel('epoch')\n",
        "#   plt.legend(['train','test'], loc='upper left')\n",
        "#   plt.show()\n",
        "\n",
        "#   plt.plot(history.history['loss'])\n",
        "#   plt.plot(history.history['val_loss'])\n",
        "\n",
        "#   plt.title(modelname+' model loss')\n",
        "#   plt.ylabel('loss')\n",
        "#   plt.xlabel('epoch')\n",
        "#   plt.legend(['train','test'], loc='upper left')\n",
        "#   plt.show()"
      ]
    },
    {
      "cell_type": "code",
      "execution_count": 38,
      "metadata": {
        "colab": {
          "background_save": true
        },
        "id": "ePuSDYj0Mvy6"
      },
      "outputs": [
        {
          "ename": "IndexError",
          "evalue": "index 2 is out of bounds for axis 0 with size 0",
          "output_type": "error",
          "traceback": [
            "\u001b[1;31m---------------------------------------------------------------------------\u001b[0m",
            "\u001b[1;31mIndexError\u001b[0m                                Traceback (most recent call last)",
            "\u001b[1;32m~\\AppData\\Local\\Temp/ipykernel_15272/1005435269.py\u001b[0m in \u001b[0;36m<module>\u001b[1;34m\u001b[0m\n\u001b[1;32m----> 1\u001b[1;33m \u001b[0mencoder\u001b[0m\u001b[1;33m.\u001b[0m\u001b[0mclasses_\u001b[0m\u001b[1;33m[\u001b[0m\u001b[0mnp\u001b[0m\u001b[1;33m.\u001b[0m\u001b[0margmax\u001b[0m\u001b[1;33m(\u001b[0m\u001b[0mpred\u001b[0m\u001b[1;33m)\u001b[0m\u001b[1;33m]\u001b[0m\u001b[1;33m\u001b[0m\u001b[1;33m\u001b[0m\u001b[0m\n\u001b[0m\u001b[0;32m      2\u001b[0m \u001b[0mencoder\u001b[0m\u001b[1;33m.\u001b[0m\u001b[0mclasses_\u001b[0m\u001b[1;33m[\u001b[0m\u001b[0mnp\u001b[0m\u001b[1;33m.\u001b[0m\u001b[0margmax\u001b[0m\u001b[1;33m(\u001b[0m\u001b[0my_train\u001b[0m\u001b[1;33m[\u001b[0m\u001b[1;36m120\u001b[0m\u001b[1;33m]\u001b[0m\u001b[1;33m[\u001b[0m\u001b[1;36m0\u001b[0m\u001b[1;33m]\u001b[0m\u001b[1;33m[\u001b[0m\u001b[1;36m0\u001b[0m\u001b[1;33m]\u001b[0m\u001b[1;33m)\u001b[0m\u001b[1;33m]\u001b[0m\u001b[1;33m\u001b[0m\u001b[1;33m\u001b[0m\u001b[0m\n",
            "\u001b[1;31mIndexError\u001b[0m: index 2 is out of bounds for axis 0 with size 0"
          ]
        }
      ],
      "source": [
        "encoder.classes_[np.argmax(pred)]\n",
        "encoder.classes_[np.argmax(y_train[120][0][0])]"
      ]
    }
  ],
  "metadata": {
    "colab": {
      "name": "Mask Dataset-VGG16.ipynb",
      "provenance": []
    },
    "kernelspec": {
      "display_name": "Python 3",
      "language": "python",
      "name": "python3"
    },
    "language_info": {
      "codemirror_mode": {
        "name": "ipython",
        "version": 3
      },
      "file_extension": ".py",
      "mimetype": "text/x-python",
      "name": "python",
      "nbconvert_exporter": "python",
      "pygments_lexer": "ipython3",
      "version": "3.9.7"
    }
  },
  "nbformat": 4,
  "nbformat_minor": 0
}
